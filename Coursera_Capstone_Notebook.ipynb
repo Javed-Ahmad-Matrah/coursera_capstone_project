{
    "cells": [
        {
            "cell_type": "markdown",
            "metadata": {},
            "source": "# IBM Coursera Capstone Project "
        },
        {
            "cell_type": "markdown",
            "metadata": {},
            "source": "## The Battle of Neighborhoods (Week 1"
        },
        {
            "cell_type": "markdown",
            "metadata": {},
            "source": "### Part 1 : Introduction and Data Sections"
        },
        {
            "cell_type": "code",
            "execution_count": 1,
            "metadata": {},
            "outputs": [
                {
                    "name": "stdout",
                    "output_type": "stream",
                    "text": "Solving environment: done\n\n## Package Plan ##\n\n  environment location: /opt/conda/envs/Python36\n\n  added / updated specs: \n    - folium=0.5.0\n\n\nThe following packages will be downloaded:\n\n    package                    |            build\n    ---------------------------|-----------------\n    altair-4.1.0               |             py_1         614 KB  conda-forge\n    folium-0.5.0               |             py_0          45 KB  conda-forge\n    certifi-2020.4.5.1         |   py36h9f0ad1d_0         151 KB  conda-forge\n    python_abi-3.6             |          1_cp36m           4 KB  conda-forge\n    ca-certificates-2020.4.5.1 |       hecc5488_0         146 KB  conda-forge\n    branca-0.4.1               |             py_0          26 KB  conda-forge\n    vincent-0.4.4              |             py_1          28 KB  conda-forge\n    openssl-1.1.1g             |       h516909a_0         2.1 MB  conda-forge\n    ------------------------------------------------------------\n                                           Total:         3.1 MB\n\nThe following NEW packages will be INSTALLED:\n\n    altair:          4.1.0-py_1        conda-forge\n    branca:          0.4.1-py_0        conda-forge\n    folium:          0.5.0-py_0        conda-forge\n    python_abi:      3.6-1_cp36m       conda-forge\n    vincent:         0.4.4-py_1        conda-forge\n\nThe following packages will be UPDATED:\n\n    ca-certificates: 2020.1.1-0                    --> 2020.4.5.1-hecc5488_0     conda-forge\n    certifi:         2020.4.5.1-py36_0             --> 2020.4.5.1-py36h9f0ad1d_0 conda-forge\n    openssl:         1.1.1g-h7b6447c_0             --> 1.1.1g-h516909a_0         conda-forge\n\n\nDownloading and Extracting Packages\naltair-4.1.0         | 614 KB    | ##################################### | 100% \nfolium-0.5.0         | 45 KB     | ##################################### | 100% \ncertifi-2020.4.5.1   | 151 KB    | ##################################### | 100% \npython_abi-3.6       | 4 KB      | ##################################### | 100% \nca-certificates-2020 | 146 KB    | ##################################### | 100% \nbranca-0.4.1         | 26 KB     | ##################################### | 100% \nvincent-0.4.4        | 28 KB     | ##################################### | 100% \nopenssl-1.1.1g       | 2.1 MB    | ##################################### | 100% \nPreparing transaction: done\nVerifying transaction: done\nExecuting transaction: done\nLibraries imported.\n"
                }
            ],
            "source": "import numpy as np # library to handle data in a vectorized manner\nimport time\nimport pandas as pd # library for data analsysis\npd.set_option('display.max_columns', None)\npd.set_option('display.max_rows', None)\n\nimport json # library to handle JSON files\nimport requests # library to handle requests\nfrom pandas.io.json import json_normalize # tranform JSON file into a pandas dataframe\n\nfrom geopy.geocoders import Nominatim # convert an address into latitude and longitude values\n!conda install -c conda-forge folium=0.5.0 --yes # uncomment this line if you haven't completed the Foursquare API lab\nimport folium # map rendering library\n\nprint('Libraries imported.')"
        },
        {
            "cell_type": "markdown",
            "metadata": {},
            "source": "### REPORT CONTENT"
        },
        {
            "cell_type": "markdown",
            "metadata": {},
            "source": "1. Introduction: \u2043 Description of the business problem and the interested audience of this project.\n2. Data: Description of the data that will be used to solve the problem and the sources.\n3. Methodology: Discussion and description of exploratory data analysis carried out, any inferential statistical testing performed, and if any machine learnings      were used establishing the strategy and purposes.\n4. Results: Discussion of the results.\n5. Discussion:  Elaboration and discussion on any observations noted and any recommendations suggested based on the results.\n6. Conclusion: "
        },
        {
            "cell_type": "markdown",
            "metadata": {},
            "source": "### 1. Introduction"
        },
        {
            "cell_type": "markdown",
            "metadata": {},
            "source": "#### Scenario:\nI am a data scientist residing in Islamabad, Pakistan. I am very excited and I want to use this opportunity to practice my learnings in Coursera in order to answer relevant questions. The key question is : To find a convenient and enjoyable place in Islamabad? Certainly, I can use available real estate apps and Google but the idea is to use and apply myself the learn tools during the course. In order to make a comparison and evaluation of the rental options in Manhattan NY, I must set some basis, therefore the apartment in Manhattan must meet the following demands:\n\n- Apartment must be 2 or 3 bedrooms\n- Desired location is near a metro station in the Manhattan area and within 1.0 mile (1.6 km) radius\n- Price of rent not exceed $7,000 per month\n- Top ammenities in the selected neighborhood.\n- Desirable to have venues such as coffee shops, restaurants Asian Thai, gym and food shops.\n- As a reference, I have included a map of venues in Islamabad."
        },
        {
            "cell_type": "markdown",
            "metadata": {},
            "source": "#### Business Problem:\nThe challenge is to find a suitable apartment for rent in Manhattan NY that complies with the demands on location, price and venues. The data required to resolve this challenge is described in the following section 2, below."
        },
        {
            "cell_type": "markdown",
            "metadata": {},
            "source": "### Interested Audience\nI believe this is a relevant challenge with valid questions for anyone moving to other large city in US, EU or Asia. The same methodology can be applied in accordance to demands as applicable. This case is also applicable for anyone interested in exploring starting or locating a new business in any city. Lastly, it can also serve as a good practical exercise to develop Data Science skills."
        },
        {
            "cell_type": "markdown",
            "metadata": {},
            "source": "### 2. Data "
        },
        {
            "cell_type": "markdown",
            "metadata": {},
            "source": "The following data is required to answer the issues of the problem:\n\n- List of Boroughs and neighborhoods of Manhattan with their geodata (latitud and longitude)\n- List of Subway metro stations in Manhattan with their address location.\n- List of apartments for rent in Manhattan area with their addresses and price.\n- Preferably, a list of apartment for rent with additional information, such as price, address, area, # of beds, etc.\n- Venues for each Manhattan neighborhood.\n- Venues for subway metro stations, as needed."
        },
        {
            "cell_type": "markdown",
            "metadata": {},
            "source": "#### How the data will be used to solve the problem\nThe data will be used as follows:\n\n- Use Foursquare and geopy data to map top 10 venues for all Manhattan neighborhoods and clustered in groups.\n- Use foursquare and geopy data to map the location of subway metro stations , separately and on top of the above clustered map in order to be able to identify the venues and ammenities near each metro station, or explore each subway location separately\n- Use Foursquare and geopy data to map the location of rental places, in some form, linked to the subway locations.\n- create a map that depicts, for instance, the average rental price per square ft, around a radious of 1.0 mile (1.6 km) around each subway station - or a similar metrics.\n- Addresses from rental locations will be converted to geodata( lat, long) using Geopy-distance and Nominatim.\n- Data will be searched in open data sources if available, from real estate sites if open to reading, libraries or other government agencies such as Metro New York MTA, etc.\n\nThe procesing of these DATA will allow to answer the key questions to make a decision:\n- what is the cost of rent (per square ft) around a mile radius from each subway metro station?\n- what is the area of Manhattan with best rental pricing that meets criteria established?\n- What is the distance from work place ( Park Ave and 53 rd St) and the tentative future home?\n- What are the venues of the two best places to live? How the prices compare?\n- How venues distribute among Manhattan neighborhoods and around metro stations?\n- Are there tradeoffs between size and price and location?\n- Any other interesting statistical data findings of the real estate and overall data."
        },
        {
            "cell_type": "code",
            "execution_count": 2,
            "metadata": {},
            "outputs": [
                {
                    "name": "stderr",
                    "output_type": "stream",
                    "text": "/opt/conda/envs/Python36/lib/python3.6/site-packages/ipykernel/__main__.py:4: DeprecationWarning: Using Nominatim with the default \"geopy/1.18.1\" `user_agent` is strongly discouraged, as it violates Nominatim's ToS https://operations.osmfoundation.org/policies/nominatim/ and may possibly cause 403 and 429 HTTP errors. Please specify a custom `user_agent` with `Nominatim(user_agent=\"my-application\")` or by overriding the default `user_agent`: `geopy.geocoders.options.default_user_agent = \"my-application\"`. In geopy 2.0 this will become an exception.\n"
                },
                {
                    "name": "stdout",
                    "output_type": "stream",
                    "text": "The geograpical coordinate of Islamabad home are 33.6938118, 73.0651511.\n"
                }
            ],
            "source": "#Reference of venues in Islamabad for comparison to Manhattan place\n# Shenton Way, District 01, Islamabad\naddress = 'Islamabad, Pakistan'\ngeolocator = Nominatim()\nlocation = geolocator.geocode(address)\nlatitude = location.latitude\nlongitude = location.longitude\nprint('The geograpical coordinate of Islamabad home are {}, {}.'.format(latitude, longitude))\n"
        },
        {
            "cell_type": "code",
            "execution_count": 3,
            "metadata": {},
            "outputs": [],
            "source": "neighborhood_latitude=33.6938118\nneighborhood_longitude=73.0651511"
        },
        {
            "cell_type": "code",
            "execution_count": 4,
            "metadata": {},
            "outputs": [
                {
                    "name": "stdout",
                    "output_type": "stream",
                    "text": "Your credentails:\nCLIENT_ID: B5XQRT4TUVOOMGECQMCDFM0RPW5TZH1SCN0SJG1ISBXGWC23\nCLIENT_SECRET:NAARKXSPGQQPFACUACVIYUF0HGDDZLFDCAJYLBD4T2LIOEI5\n"
                }
            ],
            "source": "# The code was removed by Watson Studio for sharing."
        },
        {
            "cell_type": "code",
            "execution_count": 5,
            "metadata": {},
            "outputs": [
                {
                    "data": {
                        "text/plain": "'https://api.foursquare.com/v2/venues/explore?&client_id=B5XQRT4TUVOOMGECQMCDFM0RPW5TZH1SCN0SJG1ISBXGWC23&client_secret=NAARKXSPGQQPFACUACVIYUF0HGDDZLFDCAJYLBD4T2LIOEI5&v=20200101&ll=33.6938118,73.0651511&radius=500&limit=100'"
                    },
                    "execution_count": 5,
                    "metadata": {},
                    "output_type": "execute_result"
                }
            ],
            "source": "\nLIMIT = 100 # limit of number of venues returned by Foursquare API\nradius = 500 # define radius\n\n# create URL\nurl = 'https://api.foursquare.com/v2/venues/explore?&client_id={}&client_secret={}&v={}&ll={},{}&radius={}&limit={}'.format(\n    CLIENT_ID, \n    CLIENT_SECRET, \n    VERSION, \n    neighborhood_latitude, \n    neighborhood_longitude, \n    radius, \n    LIMIT)\nurl # display URL"
        },
        {
            "cell_type": "code",
            "execution_count": 8,
            "metadata": {},
            "outputs": [
                {
                    "data": {
                        "text/plain": "{'meta': {'code': 200, 'requestId': '5ecc04ab0be7b4001b2c068b'},\n 'response': {'headerLocation': 'Islamabad',\n  'headerFullLocation': 'Islamabad',\n  'headerLocationGranularity': 'city',\n  'totalResults': 4,\n  'suggestedBounds': {'ne': {'lat': 33.6983118045, 'lng': 73.07054956955075},\n   'sw': {'lat': 33.6893117955, 'lng': 73.05975263044924}},\n  'groups': [{'type': 'Recommended Places',\n    'name': 'recommended',\n    'items': [{'reasons': {'count': 0,\n       'items': [{'summary': 'This spot is popular',\n         'type': 'general',\n         'reasonName': 'globalInteractionReason'}]},\n      'venue': {'id': '4ce4ca36e571a0934cd18687',\n       'name': 'Pakistan Monument',\n       'location': {'lat': 33.69307,\n        'lng': 73.06891,\n        'labeledLatLngs': [{'label': 'display',\n          'lat': 33.69307,\n          'lng': 73.06891}],\n        'distance': 357,\n        'cc': 'PK',\n        'city': '\u0627\u0633\u0644\u0627\u0645 \u0622\u0628\u0627\u062f',\n        'state': 'Isl\u0101m\u0101b\u0101d Capital Territory',\n        'country': '\u067e\u0627\u06a9\u0633\u062a\u0627\u0646',\n        'formattedAddress': ['\u0627\u0633\u0644\u0627\u0645 \u0622\u0628\u0627\u062f', '\u067e\u0627\u06a9\u0633\u062a\u0627\u0646']},\n       'categories': [{'id': '4bf58dd8d48988d190941735',\n         'name': 'History Museum',\n         'pluralName': 'History Museums',\n         'shortName': 'History Museum',\n         'icon': {'prefix': 'https://ss3.4sqi.net/img/categories_v2/arts_entertainment/museum_history_',\n          'suffix': '.png'},\n         'primary': True}],\n       'photos': {'count': 0, 'groups': []}},\n      'referralId': 'e-0-4ce4ca36e571a0934cd18687-0'},\n     {'reasons': {'count': 0,\n       'items': [{'summary': 'This spot is popular',\n         'type': 'general',\n         'reasonName': 'globalInteractionReason'}]},\n      'venue': {'id': '4ed0b5b3b8f7971d6af9dbfd',\n       'name': 'Munchies',\n       'location': {'lat': 33.69454505251228,\n        'lng': 73.067364671829,\n        'labeledLatLngs': [{'label': 'display',\n          'lat': 33.69454505251228,\n          'lng': 73.067364671829}],\n        'distance': 220,\n        'cc': 'PK',\n        'country': '\u067e\u0627\u06a9\u0633\u062a\u0627\u0646',\n        'formattedAddress': ['\u067e\u0627\u06a9\u0633\u062a\u0627\u0646']},\n       'categories': [{'id': '4bf58dd8d48988d16e941735',\n         'name': 'Fast Food Restaurant',\n         'pluralName': 'Fast Food Restaurants',\n         'shortName': 'Fast Food',\n         'icon': {'prefix': 'https://ss3.4sqi.net/img/categories_v2/food/fastfood_',\n          'suffix': '.png'},\n         'primary': True}],\n       'photos': {'count': 0, 'groups': []}},\n      'referralId': 'e-0-4ed0b5b3b8f7971d6af9dbfd-1'},\n     {'reasons': {'count': 0,\n       'items': [{'summary': 'This spot is popular',\n         'type': 'general',\n         'reasonName': 'globalInteractionReason'}]},\n      'venue': {'id': '5e88973fb68bfa0008ba2390',\n       'name': 'Prestige Garage Door',\n       'location': {'address': '2369 N Penn Rd',\n        'lat': 33.692488981333334,\n        'lng': 73.06824539601394,\n        'labeledLatLngs': [{'label': 'display',\n          'lat': 33.692488981333334,\n          'lng': 73.06824539601394}],\n        'distance': 322,\n        'postalCode': '19440',\n        'cc': 'PK',\n        'city': 'Hatfield',\n        'state': 'PA',\n        'country': '\u067e\u0627\u06a9\u0633\u062a\u0627\u0646',\n        'formattedAddress': ['2369 N Penn Rd', 'Hatfield-19440', '\u067e\u0627\u06a9\u0633\u062a\u0627\u0646']},\n       'categories': [{'id': '545419b1498ea6ccd0202f58',\n         'name': 'Home Service',\n         'pluralName': 'Home Services & Repairs',\n         'shortName': 'Home Services',\n         'icon': {'prefix': 'https://ss3.4sqi.net/img/categories_v2/shops/hardware_',\n          'suffix': '.png'},\n         'primary': True}],\n       'photos': {'count': 0, 'groups': []}},\n      'referralId': 'e-0-5e88973fb68bfa0008ba2390-2'},\n     {'reasons': {'count': 0,\n       'items': [{'summary': 'This spot is popular',\n         'type': 'general',\n         'reasonName': 'globalInteractionReason'}]},\n      'venue': {'id': '583dd0e65a5869381a62f426',\n       'name': 'Sonia ASAP Locksmith',\n       'location': {'address': '2050 York Rd',\n        'lat': 33.69054128045807,\n        'lng': 73.06766510009766,\n        'labeledLatLngs': [{'label': 'display',\n          'lat': 33.69054128045807,\n          'lng': 73.06766510009766}],\n        'distance': 432,\n        'postalCode': '21216',\n        'cc': 'PK',\n        'city': 'Annapolis',\n        'state': 'MD',\n        'country': '\u067e\u0627\u06a9\u0633\u062a\u0627\u0646',\n        'formattedAddress': ['2050 York Rd', 'Annapolis-21216', '\u067e\u0627\u06a9\u0633\u062a\u0627\u0646']},\n       'categories': [{'id': '52f2ab2ebcbc57f1066b8b1e',\n         'name': 'Locksmith',\n         'pluralName': 'Locksmiths',\n         'shortName': 'Locksmith',\n         'icon': {'prefix': 'https://ss3.4sqi.net/img/categories_v2/shops/default_',\n          'suffix': '.png'},\n         'primary': True}],\n       'photos': {'count': 0, 'groups': []}},\n      'referralId': 'e-0-583dd0e65a5869381a62f426-3'}]}]}}"
                    },
                    "execution_count": 8,
                    "metadata": {},
                    "output_type": "execute_result"
                }
            ],
            "source": "results = requests.get(url).json()\nresults"
        },
        {
            "cell_type": "code",
            "execution_count": 10,
            "metadata": {},
            "outputs": [],
            "source": "# function that extracts the category of the venue\ndef get_category_type(row):\n    try:\n        categories_list = row['categories']\n    except:\n        categories_list = row['venue.categories']\n        \n    if len(categories_list) == 0:\n        return None\n    else:\n        return categories_list[0]['name']"
        },
        {
            "cell_type": "code",
            "execution_count": 11,
            "metadata": {},
            "outputs": [
                {
                    "data": {
                        "text/html": "<div>\n<style scoped>\n    .dataframe tbody tr th:only-of-type {\n        vertical-align: middle;\n    }\n\n    .dataframe tbody tr th {\n        vertical-align: top;\n    }\n\n    .dataframe thead th {\n        text-align: right;\n    }\n</style>\n<table border=\"1\" class=\"dataframe\">\n  <thead>\n    <tr style=\"text-align: right;\">\n      <th></th>\n      <th>name</th>\n      <th>categories</th>\n      <th>lat</th>\n      <th>lng</th>\n    </tr>\n  </thead>\n  <tbody>\n    <tr>\n      <th>0</th>\n      <td>Pakistan Monument</td>\n      <td>History Museum</td>\n      <td>33.693070</td>\n      <td>73.068910</td>\n    </tr>\n    <tr>\n      <th>1</th>\n      <td>Munchies</td>\n      <td>Fast Food Restaurant</td>\n      <td>33.694545</td>\n      <td>73.067365</td>\n    </tr>\n    <tr>\n      <th>2</th>\n      <td>Prestige Garage Door</td>\n      <td>Home Service</td>\n      <td>33.692489</td>\n      <td>73.068245</td>\n    </tr>\n    <tr>\n      <th>3</th>\n      <td>Sonia ASAP Locksmith</td>\n      <td>Locksmith</td>\n      <td>33.690541</td>\n      <td>73.067665</td>\n    </tr>\n  </tbody>\n</table>\n</div>",
                        "text/plain": "                   name            categories        lat        lng\n0     Pakistan Monument        History Museum  33.693070  73.068910\n1              Munchies  Fast Food Restaurant  33.694545  73.067365\n2  Prestige Garage Door          Home Service  33.692489  73.068245\n3  Sonia ASAP Locksmith             Locksmith  33.690541  73.067665"
                    },
                    "execution_count": 11,
                    "metadata": {},
                    "output_type": "execute_result"
                }
            ],
            "source": "venues = results['response']['groups'][0]['items']\n    \nSGnearby_venues = json_normalize(venues) # flatten JSON\n\n# filter columns\nfiltered_columns = ['venue.name', 'venue.categories', 'venue.location.lat', 'venue.location.lng']\nSGnearby_venues =SGnearby_venues.loc[:, filtered_columns]\n\n# filter the category for each row\nSGnearby_venues['venue.categories'] = SGnearby_venues.apply(get_category_type, axis=1)\n\n# clean columns\nSGnearby_venues.columns = [col.split(\".\")[-1] for col in SGnearby_venues.columns]\n\nSGnearby_venues.head(10)"
        },
        {
            "cell_type": "code",
            "execution_count": 12,
            "metadata": {},
            "outputs": [
                {
                    "data": {
                        "text/html": "<div style=\"width:100%;\"><div style=\"position:relative;width:100%;height:0;padding-bottom:60%;\"><span style=\"color:#565656\">Make this Notebook Trusted to load map: File -> Trust Notebook</span><iframe src=\"about:blank\" style=\"position:absolute;width:100%;height:100%;left:0;top:0;border:none !important;\" data-html=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 onload=\"this.contentDocument.open();this.contentDocument.write(atob(this.getAttribute('data-html')));this.contentDocument.close();\" allowfullscreen webkitallowfullscreen mozallowfullscreen></iframe></div></div>",
                        "text/plain": "<folium.folium.Map at 0x7f24f4d807f0>"
                    },
                    "execution_count": 12,
                    "metadata": {},
                    "output_type": "execute_result"
                }
            ],
            "source": "\n# create map of Islamabad place  using latitude and longitude values\nmap_isb = folium.Map(location=[latitude, longitude], zoom_start=18)\n\n# add markers to map\nfor lat, lng, label in zip(SGnearby_venues['lat'], SGnearby_venues['lng'], SGnearby_venues['name']):\n    label = folium.Popup(label, parse_html=True)\n    folium.RegularPolygonMarker(\n        [lat, lng],\n        number_of_sides=4,\n        radius=8,\n        popup=label,\n        color='blue',\n        fill_color='#0f0f0f',\n        fill_opacity=0.7,\n    ).add_to(map_isb)  \n    \nmap_isb"
        },
        {
            "cell_type": "code",
            "execution_count": 12,
            "metadata": {},
            "outputs": [],
            "source": "#3.Methodology \n#4.Results \n#5 Discussion\n#6 Conclusion"
        },
        {
            "cell_type": "code",
            "execution_count": null,
            "metadata": {},
            "outputs": [],
            "source": ""
        }
    ],
    "metadata": {
        "kernelspec": {
            "display_name": "Python 3.6",
            "language": "python",
            "name": "python3"
        },
        "language_info": {
            "codemirror_mode": {
                "name": "ipython",
                "version": 3
            },
            "file_extension": ".py",
            "mimetype": "text/x-python",
            "name": "python",
            "nbconvert_exporter": "python",
            "pygments_lexer": "ipython3",
            "version": "3.6.9"
        }
    },
    "nbformat": 4,
    "nbformat_minor": 1
}